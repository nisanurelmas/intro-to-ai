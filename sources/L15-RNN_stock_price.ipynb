{
 "cells": [
  {
   "cell_type": "markdown",
   "metadata": {
    "_uuid": "340c411000d38f9d7e7cbfee7daf46d49571960a"
   },
   "source": [
    "# Aim and motivation\n",
    "The primary reason I have chosen to create this kernel is to practice and use RNNs for various tasks and applications. First of which is time series data. RNNs have truly changed the way sequential data is forecasted. My goal here is to create the ultimate reference for RNNs here on kaggle."
   ]
  },
  {
   "cell_type": "markdown",
   "metadata": {
    "_uuid": "04a6c8887c7716dab64ea9bf77197c263e12d06f"
   },
   "source": [
    "## Things to remember\n",
    "* Please upvote(like button) and share this kernel if you like it. This would increase its visibility and more people will be able to learn about the awesomeness of RNNs.\n",
    "* I will use keras for this kernel. If you are not familiar with keras or neural networks, refer to this kernel/tutorial of mine:  https://www.kaggle.com/thebrownviking20/intro-to-keras-with-breast-cancer-data-ann\n",
    "* Your doubts and curiousity about time series can be taken care of here: https://www.kaggle.com/thebrownviking20/everything-you-can-do-with-a-time-series\n",
    "* Don't let the explanations intimidate you. It's simpler than you think.\n",
    "* Eventually, I will add more applications of LSTMs. So stay tuned for more!\n",
    "* The code is inspired from Kirill Eremenko's Deep Learning Course: https://www.udemy.com/deeplearning/"
   ]
  },
  {
   "cell_type": "markdown",
   "metadata": {
    "_cell_guid": "b1076dfc-b9ad-4769-8c92-a6c4dae69d19",
    "_uuid": "8f2839f25d086af736a60e9eeb907d3b93b6e0e5"
   },
   "source": [
    "## Recurrent Neural Networks\n",
    "In a recurrent neural network we store the output activations from one or more of the layers of the network. Often these are hidden later activations. Then, the next time we feed an input example to the network, we include the previously-stored outputs as additional inputs. You can think of the additional inputs as being concatenated to the end of the “normal” inputs to the previous layer. For example, if a hidden layer had 10 regular input nodes and 128 hidden nodes in the layer, then it would actually have 138 total inputs (assuming you are feeding the layer’s outputs into itself à la Elman) rather than into another layer). Of course, the very first time you try to compute the output of the network you’ll need to fill in those extra 128 inputs with 0s or something.\n",
    "\n",
    "Source: [Quora](https://www.quora.com/What-is-a-simple-explanation-of-a-recurrent-neural-network)\n",
    "<img src=\"https://cdn-images-1.medium.com/max/1600/1*NKhwsOYNUT5xU7Pyf6Znhg.png\">\n",
    "\n",
    "Source: [Medium](https://medium.com/ai-journal/lstm-gru-recurrent-neural-networks-81fe2bcdf1f9)\n",
    "\n",
    "Let me give you the best explanation of Recurrent Neural Networks that I found on internet: https://www.youtube.com/watch?v=UNmqTiOnRfg&t=3s"
   ]
  },
  {
   "cell_type": "markdown",
   "metadata": {
    "_cell_guid": "79c7e3d0-c299-4dcb-8224-4455121ee9b0",
    "_uuid": "d629ff2d2480ee46fbb7e2d37f6b5fab8052498a"
   },
   "source": [
    "Now, even though RNNs are quite powerful, they suffer from  **Vanishing gradient problem ** which hinders them from using long term information, like they are good for storing memory 3-4 instances of past iterations but larger number of instances don't provide good results so we don't just use regular RNNs. Instead, we use a better variation of RNNs: **Long Short Term Networks(LSTM).**\n",
    "\n",
    "### What is Vanishing Gradient problem?\n",
    "Vanishing gradient problem is a difficulty found in training artificial neural networks with gradient-based learning methods and backpropagation. In such methods, each of the neural network's weights receives an update proportional to the partial derivative of the error function with respect to the current weight in each iteration of training. The problem is that in some cases, the gradient will be vanishingly small, effectively preventing the weight from changing its value. In the worst case, this may completely stop the neural network from further training. As one example of the problem cause, traditional activation functions such as the hyperbolic tangent function have gradients in the range (0, 1), and backpropagation computes gradients by the chain rule. This has the effect of multiplying n of these small numbers to compute gradients of the \"front\" layers in an n-layer network, meaning that the gradient (error signal) decreases exponentially with n while the front layers train very slowly.\n",
    "\n",
    "Source: [Wikipedia](https://en.wikipedia.org/wiki/Vanishing_gradient_problem)\n",
    "\n",
    "<img src=\"https://cdn-images-1.medium.com/max/1460/1*FWy4STsp8k0M5Yd8LifG_Q.png\">\n",
    "\n",
    "Source: [Medium](https://medium.com/@anishsingh20/the-vanishing-gradient-problem-48ae7f501257)"
   ]
  },
  {
   "cell_type": "markdown",
   "metadata": {
    "_uuid": "79ac683d1b85322f6ed4a564637914a8d803221b"
   },
   "source": [
    "## Long Short Term Memory(LSTM)\n",
    "Long short-term memory (LSTM) units (or blocks) are a building unit for layers of a recurrent neural network (RNN). A RNN composed of LSTM units is often called an LSTM network. A common LSTM unit is composed of a cell, an input gate, an output gate and a forget gate. The cell is responsible for \"remembering\" values over arbitrary time intervals; hence the word \"memory\" in LSTM. Each of the three gates can be thought of as a \"conventional\" artificial neuron, as in a multi-layer (or feedforward) neural network: that is, they compute an activation (using an activation function) of a weighted sum. Intuitively, they can be thought as regulators of the flow of values that goes through the connections of the LSTM; hence the denotation \"gate\". There are connections between these gates and the cell.\n",
    "\n",
    "The expression long short-term refers to the fact that LSTM is a model for the short-term memory which can last for a long period of time. An LSTM is well-suited to classify, process and predict time series given time lags of unknown size and duration between important events. LSTMs were developed to deal with the exploding and vanishing gradient problem when training traditional RNNs.\n",
    "\n",
    "Source: [Wikipedia](https://en.wikipedia.org/wiki/Long_short-term_memory)\n",
    "\n",
    "<img src=\"https://cdn-images-1.medium.com/max/1600/0*LyfY3Mow9eCYlj7o.\">\n",
    "\n",
    "Source: [Medium](https://codeburst.io/generating-text-using-an-lstm-network-no-libraries-2dff88a3968)\n",
    "\n",
    "The best LSTM explanation on internet: https://medium.com/deep-math-machine-learning-ai/chapter-10-1-deepnlp-lstm-long-short-term-memory-networks-with-math-21477f8e4235\n",
    "\n",
    "Refer above link for deeper insights."
   ]
  },
  {
   "cell_type": "markdown",
   "metadata": {
    "_uuid": "42c24cc294d93504880c5c76d383b491d89b29f1"
   },
   "source": [
    "## Components of LSTMs\n",
    "So the LSTM cell contains the following components\n",
    "* Forget Gate “f” ( a neural network with sigmoid)\n",
    "* Candidate layer “C\"(a NN with Tanh)\n",
    "* Input Gate “I” ( a NN with sigmoid )\n",
    "* Output Gate “O”( a NN with sigmoid)\n",
    "* Hidden state “H” ( a vector )\n",
    "* Memory state “C” ( a vector)\n",
    "\n",
    "* Inputs to the LSTM cell at any step are X<sub>t</sub> (current input) , H<sub>t-1</sub> (previous hidden state ) and C<sub>t-1</sub> (previous memory state).  \n",
    "* Outputs from the LSTM cell are H<sub>t</sub> (current hidden state ) and C<sub>t</sub> (current memory state)"
   ]
  },
  {
   "cell_type": "markdown",
   "metadata": {
    "_uuid": "e7f3771ce38c69191eb23681561744863ee30ea8"
   },
   "source": [
    "## Working of gates in LSTMs\n",
    "First, LSTM cell takes the previous memory state C<sub>t-1</sub> and does element wise multiplication with forget gate (f) to decide if  present memory state C<sub>t</sub>. If forget gate value is 0 then previous memory state is completely forgotten else f forget gate value is 1 then previous memory state is completely passed to the cell ( Remember f gate gives values between 0 and 1 ).\n",
    "\n",
    "**C<sub>t</sub> = C<sub>t-1</sub> * f<sub>t</sub>**\n",
    "\n",
    "Calculating the new memory state: \n",
    "\n",
    "**C<sub>t</sub> = C<sub>t</sub> + (I<sub>t</sub> * C\\`<sub>t</sub>)**\n",
    "\n",
    "Now, we calculate the output:\n",
    "\n",
    "**H<sub>t</sub> = tanh(C<sub>t</sub>)**"
   ]
  },
  {
   "cell_type": "markdown",
   "metadata": {
    "_uuid": "2f82cc24efc6283e5a98cadb78fc1a465e44c143"
   },
   "source": [
    "### And now we get to the code...\n",
    "I will use LSTMs for predicting the price of stocks of IBM for the year 2017"
   ]
  },
  {
   "cell_type": "code",
   "execution_count": 1,
   "metadata": {
    "_uuid": "da0236e4b36ce514c1fec3fd72f236d1fa259131",
    "collapsed": true,
    "jupyter": {
     "outputs_hidden": true
    }
   },
   "outputs": [
    {
     "name": "stderr",
     "output_type": "stream",
     "text": [
      "Using TensorFlow backend.\n"
     ]
    }
   ],
   "source": [
    "# Importing the libraries\n",
    "import numpy as np\n",
    "import matplotlib.pyplot as plt\n",
    "plt.style.use('fivethirtyeight')\n",
    "import pandas as pd\n",
    "from sklearn.preprocessing import MinMaxScaler\n",
    "from keras.models import Sequential\n",
    "from keras.layers import Dense, LSTM, Dropout, GRU, Bidirectional\n",
    "from keras.optimizers import SGD\n",
    "import math\n",
    "from sklearn.metrics import mean_squared_error"
   ]
  },
  {
   "cell_type": "code",
   "execution_count": 2,
   "metadata": {
    "_uuid": "b288a8e2caf6196daec9cd2bc4ca78fe50345845"
   },
   "outputs": [],
   "source": [
    "# Some functions to help out with\n",
    "def plot_predictions(test,predicted):\n",
    "    plt.plot(test, color='red',label='Real IBM Stock Price')\n",
    "    plt.plot(predicted, color='blue',label='Predicted IBM Stock Price')\n",
    "    plt.title('IBM Stock Price Prediction')\n",
    "    plt.xlabel('Time')\n",
    "    plt.ylabel('IBM Stock Price')\n",
    "    plt.legend()\n",
    "    plt.show()\n",
    "\n",
    "def return_rmse(test,predicted):\n",
    "    rmse = math.sqrt(mean_squared_error(test, predicted))\n",
    "    print(\"The root mean squared error is {}.\".format(rmse))"
   ]
  },
  {
   "cell_type": "code",
   "execution_count": 3,
   "metadata": {
    "_uuid": "4cf10cf27420eb383b93b15c0895139ea96c0ed3",
    "collapsed": true,
    "jupyter": {
     "outputs_hidden": true
    }
   },
   "outputs": [
    {
     "data": {
      "text/html": [
       "<div>\n",
       "<style scoped>\n",
       "    .dataframe tbody tr th:only-of-type {\n",
       "        vertical-align: middle;\n",
       "    }\n",
       "\n",
       "    .dataframe tbody tr th {\n",
       "        vertical-align: top;\n",
       "    }\n",
       "\n",
       "    .dataframe thead th {\n",
       "        text-align: right;\n",
       "    }\n",
       "</style>\n",
       "<table border=\"1\" class=\"dataframe\">\n",
       "  <thead>\n",
       "    <tr style=\"text-align: right;\">\n",
       "      <th></th>\n",
       "      <th>Open</th>\n",
       "      <th>High</th>\n",
       "      <th>Low</th>\n",
       "      <th>Close</th>\n",
       "      <th>Volume</th>\n",
       "      <th>Name</th>\n",
       "    </tr>\n",
       "    <tr>\n",
       "      <th>Date</th>\n",
       "      <th></th>\n",
       "      <th></th>\n",
       "      <th></th>\n",
       "      <th></th>\n",
       "      <th></th>\n",
       "      <th></th>\n",
       "    </tr>\n",
       "  </thead>\n",
       "  <tbody>\n",
       "    <tr>\n",
       "      <th>2006-01-03</th>\n",
       "      <td>82.45</td>\n",
       "      <td>82.55</td>\n",
       "      <td>80.81</td>\n",
       "      <td>82.06</td>\n",
       "      <td>11715200</td>\n",
       "      <td>IBM</td>\n",
       "    </tr>\n",
       "    <tr>\n",
       "      <th>2006-01-04</th>\n",
       "      <td>82.20</td>\n",
       "      <td>82.50</td>\n",
       "      <td>81.33</td>\n",
       "      <td>81.95</td>\n",
       "      <td>9840600</td>\n",
       "      <td>IBM</td>\n",
       "    </tr>\n",
       "    <tr>\n",
       "      <th>2006-01-05</th>\n",
       "      <td>81.40</td>\n",
       "      <td>82.90</td>\n",
       "      <td>81.00</td>\n",
       "      <td>82.50</td>\n",
       "      <td>7213500</td>\n",
       "      <td>IBM</td>\n",
       "    </tr>\n",
       "    <tr>\n",
       "      <th>2006-01-06</th>\n",
       "      <td>83.95</td>\n",
       "      <td>85.03</td>\n",
       "      <td>83.41</td>\n",
       "      <td>84.95</td>\n",
       "      <td>8197400</td>\n",
       "      <td>IBM</td>\n",
       "    </tr>\n",
       "    <tr>\n",
       "      <th>2006-01-09</th>\n",
       "      <td>84.10</td>\n",
       "      <td>84.25</td>\n",
       "      <td>83.38</td>\n",
       "      <td>83.73</td>\n",
       "      <td>6858200</td>\n",
       "      <td>IBM</td>\n",
       "    </tr>\n",
       "  </tbody>\n",
       "</table>\n",
       "</div>"
      ],
      "text/plain": [
       "             Open   High    Low  Close    Volume Name\n",
       "Date                                                 \n",
       "2006-01-03  82.45  82.55  80.81  82.06  11715200  IBM\n",
       "2006-01-04  82.20  82.50  81.33  81.95   9840600  IBM\n",
       "2006-01-05  81.40  82.90  81.00  82.50   7213500  IBM\n",
       "2006-01-06  83.95  85.03  83.41  84.95   8197400  IBM\n",
       "2006-01-09  84.10  84.25  83.38  83.73   6858200  IBM"
      ]
     },
     "execution_count": 3,
     "metadata": {},
     "output_type": "execute_result"
    }
   ],
   "source": [
    "# First, we get the data\n",
    "dataset = pd.read_csv('IBM_2006-01-01_to_2018-01-01.csv', index_col='Date', parse_dates=['Date'])\n",
    "dataset.head()"
   ]
  },
  {
   "cell_type": "code",
   "execution_count": 4,
   "metadata": {
    "_uuid": "fb4c9db6d8a5bcf20ffad41747cfa5b6215ba220",
    "collapsed": true,
    "jupyter": {
     "outputs_hidden": true
    }
   },
   "outputs": [],
   "source": [
    "# Checking for missing values\n",
    "training_set = dataset[:'2016'].iloc[:,1:2].values\n",
    "test_set = dataset['2017':].iloc[:,1:2].values"
   ]
  },
  {
   "cell_type": "code",
   "execution_count": 5,
   "metadata": {
    "_uuid": "bf5a9463d58e73852d2b70be9611e8cf1f4166fd",
    "collapsed": true,
    "jupyter": {
     "outputs_hidden": true
    }
   },
   "outputs": [
    {
     "data": {
      "image/png": "[encoded data removed]",
      "text/plain": [
       "<Figure size 1152x288 with 1 Axes>"
      ]
     },
     "metadata": {
      "needs_background": "light"
     },
     "output_type": "display_data"
    }
   ],
   "source": [
    "# We have chosen 'High' attribute for prices. Let's see what it looks like\n",
    "dataset[\"High\"][:'2016'].plot(figsize=(16,4),legend=True)\n",
    "dataset[\"High\"]['2017':].plot(figsize=(16,4),legend=True)\n",
    "plt.legend(['Training set (Before 2017)','Test set (2017 and beyond)'])\n",
    "plt.title('IBM stock price')\n",
    "plt.show()"
   ]
  },
  {
   "cell_type": "code",
   "execution_count": 6,
   "metadata": {
    "_uuid": "bcc9c36165fc07d258bd5ea87874d2da17fa4a4d",
    "collapsed": true,
    "jupyter": {
     "outputs_hidden": true
    }
   },
   "outputs": [],
   "source": [
    "# Scaling the training set\n",
    "sc = MinMaxScaler(feature_range=(0,1))\n",
    "training_set_scaled = sc.fit_transform(training_set)"
   ]
  },
  {
   "cell_type": "code",
   "execution_count": 7,
   "metadata": {
    "_uuid": "fccfb866a2b4c702e0b2742f7c0289512d713d1b"
   },
   "outputs": [],
   "source": [
    "# Since LSTMs store long term memory state, we create a data structure with 60 timesteps and 1 output\n",
    "# So for each element of training set, we have 60 previous training set elements \n",
    "X_train = []\n",
    "y_train = []\n",
    "for i in range(60,2769):\n",
    "    X_train.append(training_set_scaled[i-60:i,0])\n",
    "    y_train.append(training_set_scaled[i,0])\n",
    "X_train, y_train = np.array(X_train), np.array(y_train)"
   ]
  },
  {
   "cell_type": "code",
   "execution_count": 8,
   "metadata": {
    "_uuid": "637f699d3c4bde4b783de56ed4dd70a1bf59760d",
    "collapsed": true,
    "jupyter": {
     "outputs_hidden": true
    }
   },
   "outputs": [],
   "source": [
    "# Reshaping X_train for efficient modelling\n",
    "X_train = np.reshape(X_train, (X_train.shape[0],X_train.shape[1],1))"
   ]
  },
  {
   "cell_type": "code",
   "execution_count": 9,
   "metadata": {
    "_uuid": "df20eb7e8062dae0a3aff2182aa440faddd0017d",
    "collapsed": true,
    "jupyter": {
     "outputs_hidden": true
    }
   },
   "outputs": [
    {
     "name": "stdout",
     "output_type": "stream",
     "text": [
      "WARNING:tensorflow:From C:\\Users\\Lenova\\Anaconda3\\lib\\site-packages\\keras\\backend\\tensorflow_backend.py:68: The name tf.get_default_graph is deprecated. Please use tf.compat.v1.get_default_graph instead.\n",
      "\n",
      "WARNING:tensorflow:From C:\\Users\\Lenova\\Anaconda3\\lib\\site-packages\\keras\\backend\\tensorflow_backend.py:508: The name tf.placeholder is deprecated. Please use tf.compat.v1.placeholder instead.\n",
      "\n",
      "WARNING:tensorflow:From C:\\Users\\Lenova\\Anaconda3\\lib\\site-packages\\keras\\backend\\tensorflow_backend.py:3837: The name tf.random_uniform is deprecated. Please use tf.random.uniform instead.\n",
      "\n",
      "WARNING:tensorflow:From C:\\Users\\Lenova\\Anaconda3\\lib\\site-packages\\keras\\backend\\tensorflow_backend.py:127: The name tf.placeholder_with_default is deprecated. Please use tf.compat.v1.placeholder_with_default instead.\n",
      "\n",
      "WARNING:tensorflow:From C:\\Users\\Lenova\\Anaconda3\\lib\\site-packages\\keras\\backend\\tensorflow_backend.py:3144: calling dropout (from tensorflow.python.ops.nn_ops) with keep_prob is deprecated and will be removed in a future version.\n",
      "Instructions for updating:\n",
      "Please use `rate` instead of `keep_prob`. Rate should be set to `rate = 1 - keep_prob`.\n",
      "WARNING:tensorflow:From C:\\Users\\Lenova\\Anaconda3\\lib\\site-packages\\keras\\optimizers.py:757: The name tf.train.Optimizer is deprecated. Please use tf.compat.v1.train.Optimizer instead.\n",
      "\n",
      "WARNING:tensorflow:From C:\\Users\\Lenova\\Anaconda3\\lib\\site-packages\\tensorflow_core\\python\\ops\\math_grad.py:1424: where (from tensorflow.python.ops.array_ops) is deprecated and will be removed in a future version.\n",
      "Instructions for updating:\n",
      "Use tf.where in 2.0, which has the same broadcast rule as np.where\n",
      "WARNING:tensorflow:From C:\\Users\\Lenova\\Anaconda3\\lib\\site-packages\\keras\\backend\\tensorflow_backend.py:977: The name tf.assign_add is deprecated. Please use tf.compat.v1.assign_add instead.\n",
      "\n",
      "WARNING:tensorflow:From C:\\Users\\Lenova\\Anaconda3\\lib\\site-packages\\keras\\backend\\tensorflow_backend.py:964: The name tf.assign is deprecated. Please use tf.compat.v1.assign instead.\n",
      "\n",
      "WARNING:tensorflow:From C:\\Users\\Lenova\\Anaconda3\\lib\\site-packages\\keras\\backend\\tensorflow_backend.py:2503: The name tf.Session is deprecated. Please use tf.compat.v1.Session instead.\n",
      "\n",
      "Epoch 1/50\n",
      "WARNING:tensorflow:From C:\\Users\\Lenova\\Anaconda3\\lib\\site-packages\\keras\\backend\\tensorflow_backend.py:168: The name tf.get_default_session is deprecated. Please use tf.compat.v1.get_default_session instead.\n",
      "\n",
      "WARNING:tensorflow:From C:\\Users\\Lenova\\Anaconda3\\lib\\site-packages\\keras\\backend\\tensorflow_backend.py:175: The name tf.ConfigProto is deprecated. Please use tf.compat.v1.ConfigProto instead.\n",
      "\n",
      "WARNING:tensorflow:From C:\\Users\\Lenova\\Anaconda3\\lib\\site-packages\\keras\\backend\\tensorflow_backend.py:184: The name tf.global_variables is deprecated. Please use tf.compat.v1.global_variables instead.\n",
      "\n",
      "WARNING:tensorflow:From C:\\Users\\Lenova\\Anaconda3\\lib\\site-packages\\keras\\backend\\tensorflow_backend.py:193: The name tf.is_variable_initialized is deprecated. Please use tf.compat.v1.is_variable_initialized instead.\n",
      "\n",
      "WARNING:tensorflow:From C:\\Users\\Lenova\\Anaconda3\\lib\\site-packages\\keras\\backend\\tensorflow_backend.py:200: The name tf.variables_initializer is deprecated. Please use tf.compat.v1.variables_initializer instead.\n",
      "\n",
      "2709/2709 [==============================] - 18s 7ms/step - loss: 0.0256\n",
      "Epoch 2/50\n",
      "2709/2709 [==============================] - 14s 5ms/step - loss: 0.0114\n",
      "Epoch 3/50\n",
      "2709/2709 [==============================] - 14s 5ms/step - loss: 0.0089\n",
      "Epoch 4/50\n",
      "2709/2709 [==============================] - 14s 5ms/step - loss: 0.0071\n",
      "Epoch 5/50\n",
      "2709/2709 [==============================] - 14s 5ms/step - loss: 0.0064\n",
      "Epoch 6/50\n",
      "2709/2709 [==============================] - 14s 5ms/step - loss: 0.0058\n",
      "Epoch 7/50\n",
      "2709/2709 [==============================] - 14s 5ms/step - loss: 0.0049\n",
      "Epoch 8/50\n",
      "2709/2709 [==============================] - 14s 5ms/step - loss: 0.0045\n",
      "Epoch 9/50\n",
      "2709/2709 [==============================] - 14s 5ms/step - loss: 0.0040\n",
      "Epoch 10/50\n",
      "2709/2709 [==============================] - 14s 5ms/step - loss: 0.0039\n",
      "Epoch 11/50\n",
      "2709/2709 [==============================] - 14s 5ms/step - loss: 0.0035\n",
      "Epoch 12/50\n",
      "2709/2709 [==============================] - 14s 5ms/step - loss: 0.0037\n",
      "Epoch 13/50\n",
      "2709/2709 [==============================] - 14s 5ms/step - loss: 0.0033\n",
      "Epoch 14/50\n",
      "2709/2709 [==============================] - 14s 5ms/step - loss: 0.0033\n",
      "Epoch 15/50\n",
      "2709/2709 [==============================] - 14s 5ms/step - loss: 0.0030\n",
      "Epoch 16/50\n",
      "2709/2709 [==============================] - 14s 5ms/step - loss: 0.0029\n",
      "Epoch 17/50\n",
      "2709/2709 [==============================] - 14s 5ms/step - loss: 0.0029: \n",
      "Epoch 18/50\n",
      "2709/2709 [==============================] - 14s 5ms/step - loss: 0.0027: 1s - los\n",
      "Epoch 19/50\n",
      "2709/2709 [==============================] - 14s 5ms/step - loss: 0.0026\n",
      "Epoch 20/50\n",
      "2709/2709 [==============================] - 14s 5ms/step - loss: 0.0027\n",
      "Epoch 21/50\n",
      "2709/2709 [==============================] - 14s 5ms/step - loss: 0.0025\n",
      "Epoch 22/50\n",
      "2709/2709 [==============================] - 14s 5ms/step - loss: 0.0024\n",
      "Epoch 23/50\n",
      "2709/2709 [==============================] - 14s 5ms/step - loss: 0.0023\n",
      "Epoch 24/50\n",
      "2709/2709 [==============================] - 14s 5ms/step - loss: 0.0022\n",
      "Epoch 25/50\n",
      "2709/2709 [==============================] - 14s 5ms/step - loss: 0.0020\n",
      "Epoch 26/50\n",
      "2709/2709 [==============================] - 14s 5ms/step - loss: 0.0022\n",
      "Epoch 27/50\n",
      "2709/2709 [==============================] - 14s 5ms/step - loss: 0.0020\n",
      "Epoch 28/50\n",
      "2709/2709 [==============================] - 14s 5ms/step - loss: 0.0020\n",
      "Epoch 29/50\n",
      "2709/2709 [==============================] - 14s 5ms/step - loss: 0.0020\n",
      "Epoch 30/50\n",
      "2709/2709 [==============================] - 13s 5ms/step - loss: 0.0020\n",
      "Epoch 31/50\n",
      "2709/2709 [==============================] - 14s 5ms/step - loss: 0.0018\n",
      "Epoch 32/50\n",
      "2709/2709 [==============================] - 14s 5ms/step - loss: 0.0019\n",
      "Epoch 33/50\n",
      "2709/2709 [==============================] - 14s 5ms/step - loss: 0.0020\n",
      "Epoch 34/50\n",
      "2709/2709 [==============================] - 14s 5ms/step - loss: 0.0019\n",
      "Epoch 35/50\n",
      "2709/2709 [==============================] - 14s 5ms/step - loss: 0.0018\n",
      "Epoch 36/50\n",
      "2709/2709 [==============================] - 14s 5ms/step - loss: 0.0018\n",
      "Epoch 37/50\n",
      "2709/2709 [==============================] - 14s 5ms/step - loss: 0.0018\n",
      "Epoch 38/50\n",
      "2709/2709 [==============================] - 14s 5ms/step - loss: 0.0017\n",
      "Epoch 39/50\n",
      "2709/2709 [==============================] - 14s 5ms/step - loss: 0.0016\n",
      "Epoch 40/50\n",
      "2709/2709 [==============================] - 14s 5ms/step - loss: 0.0016\n",
      "Epoch 41/50\n",
      "2709/2709 [==============================] - 14s 5ms/step - loss: 0.0017\n",
      "Epoch 42/50\n",
      "2709/2709 [==============================] - 14s 5ms/step - loss: 0.0016\n",
      "Epoch 43/50\n",
      "2709/2709 [==============================] - 14s 5ms/step - loss: 0.0016\n",
      "Epoch 44/50\n",
      "2709/2709 [==============================] - 14s 5ms/step - loss: 0.0016\n",
      "Epoch 45/50\n",
      "2709/2709 [==============================] - 14s 5ms/step - loss: 0.0016\n",
      "Epoch 46/50\n",
      "2709/2709 [==============================] - 14s 5ms/step - loss: 0.0015\n",
      "Epoch 47/50\n",
      "2709/2709 [==============================] - 14s 5ms/step - loss: 0.0015\n",
      "Epoch 48/50\n",
      "2709/2709 [==============================] - 14s 5ms/step - loss: 0.0014\n",
      "Epoch 49/50\n",
      "2709/2709 [==============================] - 14s 5ms/step - loss: 0.0015\n",
      "Epoch 50/50\n",
      "2709/2709 [==============================] - 14s 5ms/step - loss: 0.0014\n"
     ]
    },
    {
     "data": {
      "text/plain": [
       "<keras.callbacks.History at 0x2af6eee6d48>"
      ]
     },
     "execution_count": 9,
     "metadata": {},
     "output_type": "execute_result"
    }
   ],
   "source": [
    "# The LSTM architecture\n",
    "regressor = Sequential()\n",
    "# First LSTM layer with Dropout regularisation\n",
    "regressor.add(LSTM(units=50, return_sequences=True, input_shape=(X_train.shape[1],1)))\n",
    "regressor.add(Dropout(0.2))\n",
    "# Second LSTM layer\n",
    "regressor.add(LSTM(units=50, return_sequences=True))\n",
    "regressor.add(Dropout(0.2))\n",
    "# Third LSTM layer\n",
    "regressor.add(LSTM(units=50, return_sequences=True))\n",
    "regressor.add(Dropout(0.2))\n",
    "# Fourth LSTM layer\n",
    "regressor.add(LSTM(units=50))\n",
    "regressor.add(Dropout(0.2))\n",
    "# The output layer\n",
    "regressor.add(Dense(units=1))\n",
    "\n",
    "# Compiling the RNN\n",
    "regressor.compile(optimizer='rmsprop',loss='mean_squared_error')\n",
    "# Fitting to the training set\n",
    "regressor.fit(X_train,y_train,epochs=50,batch_size=32)"
   ]
  },
  {
   "cell_type": "code",
   "execution_count": 10,
   "metadata": {
    "_uuid": "326fa85615622feb484cc4c848edeec6f7133913",
    "collapsed": true,
    "jupyter": {
     "outputs_hidden": true
    }
   },
   "outputs": [],
   "source": [
    "# Now to get the test set ready in a similar way as the training set.\n",
    "# The following has been done so forst 60 entires of test set have 60 previous values which is impossible to get unless we take the whole \n",
    "# 'High' attribute data for processing\n",
    "dataset_total = pd.concat((dataset[\"High\"][:'2016'],dataset[\"High\"]['2017':]),axis=0)\n",
    "inputs = dataset_total[len(dataset_total)-len(test_set) - 60:].values\n",
    "inputs = inputs.reshape(-1,1)\n",
    "inputs  = sc.transform(inputs)"
   ]
  },
  {
   "cell_type": "code",
   "execution_count": 11,
   "metadata": {
    "_uuid": "435b8024814939ac4fbd372baa0cd8cfc78f80bc",
    "collapsed": true,
    "jupyter": {
     "outputs_hidden": true
    }
   },
   "outputs": [],
   "source": [
    "# Preparing X_test and predicting the prices\n",
    "X_test = []\n",
    "for i in range(60,311):\n",
    "    X_test.append(inputs[i-60:i,0])\n",
    "X_test = np.array(X_test)\n",
    "X_test = np.reshape(X_test, (X_test.shape[0],X_test.shape[1],1))\n",
    "predicted_stock_price = regressor.predict(X_test)\n",
    "predicted_stock_price = sc.inverse_transform(predicted_stock_price)"
   ]
  },
  {
   "cell_type": "code",
   "execution_count": 12,
   "metadata": {
    "_uuid": "b774a8e79e53eac89694cafef6b11aa99226b95f",
    "collapsed": true,
    "jupyter": {
     "outputs_hidden": true
    }
   },
   "outputs": [
    {
     "data": {
      "image/png": "[encoded data removed]",
      "text/plain": [
       "<Figure size 432x288 with 1 Axes>"
      ]
     },
     "metadata": {
      "needs_background": "light"
     },
     "output_type": "display_data"
    }
   ],
   "source": [
    "# Visualizing the results for LSTM\n",
    "plot_predictions(test_set,predicted_stock_price)"
   ]
  },
  {
   "cell_type": "code",
   "execution_count": 13,
   "metadata": {
    "_uuid": "f6f6db0b6e1f17ac63c06ce49856873d98ba5f00",
    "collapsed": true,
    "jupyter": {
     "outputs_hidden": true
    }
   },
   "outputs": [
    {
     "name": "stdout",
     "output_type": "stream",
     "text": [
      "The root mean squared error is 2.054826117370811.\n"
     ]
    }
   ],
   "source": [
    "# Evaluating our model\n",
    "return_rmse(test_set,predicted_stock_price)"
   ]
  },
  {
   "cell_type": "markdown",
   "metadata": {
    "_uuid": "a4cf704ab3cd091f63b7b9a1b9224a49f0913171"
   },
   "source": [
    "Truth be told. That's one awesome score. \n",
    "\n",
    "LSTM is not the only kind of unit that has taken the world of Deep Learning by a storm. We have **Gated Recurrent Units(GRU)**. It's not known, which is better: GRU or LSTM becuase they have comparable performances. GRUs are easier to train than LSTMs.\n",
    "\n",
    "## Gated Recurrent Units\n",
    "In simple words, the GRU unit does not have to use a memory unit to control the flow of information like the LSTM unit. It can directly makes use of the all hidden states without any control. GRUs have fewer parameters and thus may train a bit faster or need less data to generalize. But, with large data, the LSTMs with higher expressiveness may lead to better results.\n",
    "\n",
    "They are almost similar to LSTMs except that they have two gates: reset gate and update gate. Reset gate determines how to combine new input to previous memory and update gate determines how much of the previous state to keep. Update gate in GRU is what input gate and forget gate were in LSTM. We don't have the second non linearity in GRU before calculating the outpu, .neither they have the output gate.\n",
    "\n",
    "Source: [Quora](https://www.quora.com/Whats-the-difference-between-LSTM-and-GRU-Why-are-GRU-efficient-to-train)\n",
    "\n",
    "<img src=\"https://cdnpythonmachinelearning.azureedge.net/wp-content/uploads/2017/11/GRU.png?x31195\">"
   ]
  },
  {
   "cell_type": "code",
   "execution_count": 14,
   "metadata": {
    "_uuid": "e9b616c5112d707d16cc4b277007e286cffd58f6",
    "collapsed": true,
    "jupyter": {
     "outputs_hidden": true
    }
   },
   "outputs": [
    {
     "name": "stdout",
     "output_type": "stream",
     "text": [
      "WARNING:tensorflow:Variable *= will be deprecated. Use `var.assign(var * other)` if you want assignment to the variable value or `x = x * y` if you want a new python Tensor object.\n",
      "Epoch 1/50\n",
      "2709/2709 [==============================] - 8s 3ms/step - loss: 0.1365\n",
      "Epoch 2/50\n",
      "2709/2709 [==============================] - 5s 2ms/step - loss: 0.0456\n",
      "Epoch 3/50\n",
      "2709/2709 [==============================] - 5s 2ms/step - loss: 0.0161\n",
      "Epoch 4/50\n",
      "2709/2709 [==============================] - 5s 2ms/step - loss: 0.0053\n",
      "Epoch 5/50\n",
      "2709/2709 [==============================] - 5s 2ms/step - loss: 0.0046\n",
      "Epoch 6/50\n",
      "2709/2709 [==============================] - 5s 2ms/step - loss: 0.0041\n",
      "Epoch 7/50\n",
      "2709/2709 [==============================] - 5s 2ms/step - loss: 0.0037\n",
      "Epoch 8/50\n",
      "2709/2709 [==============================] - 5s 2ms/step - loss: 0.0036\n",
      "Epoch 9/50\n",
      "2709/2709 [==============================] - 5s 2ms/step - loss: 0.0035\n",
      "Epoch 10/50\n",
      "2709/2709 [==============================] - 5s 2ms/step - loss: 0.0033\n",
      "Epoch 11/50\n",
      "2709/2709 [==============================] - 5s 2ms/step - loss: 0.0034\n",
      "Epoch 12/50\n",
      "2709/2709 [==============================] - 5s 2ms/step - loss: 0.0029\n",
      "Epoch 13/50\n",
      "2709/2709 [==============================] - 5s 2ms/step - loss: 0.0029\n",
      "Epoch 14/50\n",
      "2709/2709 [==============================] - 5s 2ms/step - loss: 0.0029\n",
      "Epoch 15/50\n",
      "2709/2709 [==============================] - 5s 2ms/step - loss: 0.0028\n",
      "Epoch 16/50\n",
      "2709/2709 [==============================] - 5s 2ms/step - loss: 0.0027\n",
      "Epoch 17/50\n",
      "2709/2709 [==============================] - 5s 2ms/step - loss: 0.0027\n",
      "Epoch 18/50\n",
      "2709/2709 [==============================] - 5s 2ms/step - loss: 0.0025\n",
      "Epoch 19/50\n",
      "2709/2709 [==============================] - 5s 2ms/step - loss: 0.0026\n",
      "Epoch 20/50\n",
      "2709/2709 [==============================] - 5s 2ms/step - loss: 0.0025\n",
      "Epoch 21/50\n",
      "2709/2709 [==============================] - 5s 2ms/step - loss: 0.0025\n",
      "Epoch 22/50\n",
      "2709/2709 [==============================] - 5s 2ms/step - loss: 0.0025\n",
      "Epoch 23/50\n",
      "2709/2709 [==============================] - 5s 2ms/step - loss: 0.0025\n",
      "Epoch 24/50\n",
      "2709/2709 [==============================] - 5s 2ms/step - loss: 0.0024\n",
      "Epoch 25/50\n",
      "2709/2709 [==============================] - 5s 2ms/step - loss: 0.0022\n",
      "Epoch 26/50\n",
      "2709/2709 [==============================] - 5s 2ms/step - loss: 0.0023\n",
      "Epoch 27/50\n",
      "2709/2709 [==============================] - 5s 2ms/step - loss: 0.0022\n",
      "Epoch 28/50\n",
      "2709/2709 [==============================] - 5s 2ms/step - loss: 0.0023\n",
      "Epoch 29/50\n",
      "2709/2709 [==============================] - 5s 2ms/step - loss: 0.0024\n",
      "Epoch 30/50\n",
      "2709/2709 [==============================] - 5s 2ms/step - loss: 0.0024\n",
      "Epoch 31/50\n",
      "2709/2709 [==============================] - 5s 2ms/step - loss: 0.0023\n",
      "Epoch 32/50\n",
      "2709/2709 [==============================] - 5s 2ms/step - loss: 0.0023\n",
      "Epoch 33/50\n",
      "2709/2709 [==============================] - 6s 2ms/step - loss: 0.0023\n",
      "Epoch 34/50\n",
      "2709/2709 [==============================] - 5s 2ms/step - loss: 0.0023\n",
      "Epoch 35/50\n",
      "2709/2709 [==============================] - 5s 2ms/step - loss: 0.0022\n",
      "Epoch 36/50\n",
      "2709/2709 [==============================] - 5s 2ms/step - loss: 0.0022\n",
      "Epoch 37/50\n",
      "2709/2709 [==============================] - 5s 2ms/step - loss: 0.0022\n",
      "Epoch 38/50\n",
      "2709/2709 [==============================] - 5s 2ms/step - loss: 0.0021\n",
      "Epoch 39/50\n",
      "2709/2709 [==============================] - 5s 2ms/step - loss: 0.0021\n",
      "Epoch 40/50\n",
      "2709/2709 [==============================] - 5s 2ms/step - loss: 0.0021\n",
      "Epoch 41/50\n",
      "2709/2709 [==============================] - 5s 2ms/step - loss: 0.0022\n",
      "Epoch 42/50\n",
      "2709/2709 [==============================] - 5s 2ms/step - loss: 0.0021\n",
      "Epoch 43/50\n",
      "2709/2709 [==============================] - 5s 2ms/step - loss: 0.0021\n",
      "Epoch 44/50\n",
      "2709/2709 [==============================] - 5s 2ms/step - loss: 0.0021\n",
      "Epoch 45/50\n",
      "2709/2709 [==============================] - 5s 2ms/step - loss: 0.0020\n",
      "Epoch 46/50\n",
      "2709/2709 [==============================] - 5s 2ms/step - loss: 0.0020\n",
      "Epoch 47/50\n",
      "2709/2709 [==============================] - 5s 2ms/step - loss: 0.0021\n",
      "Epoch 48/50\n",
      "2709/2709 [==============================] - 5s 2ms/step - loss: 0.0020\n",
      "Epoch 49/50\n",
      "2709/2709 [==============================] - 5s 2ms/step - loss: 0.0021\n",
      "Epoch 50/50\n",
      "2709/2709 [==============================] - 5s 2ms/step - loss: 0.0021\n"
     ]
    },
    {
     "data": {
      "text/plain": [
       "<keras.callbacks.History at 0x2af76e1bf08>"
      ]
     },
     "execution_count": 14,
     "metadata": {},
     "output_type": "execute_result"
    }
   ],
   "source": [
    "# The GRU architecture\n",
    "regressorGRU = Sequential()\n",
    "# First GRU layer with Dropout regularisation\n",
    "regressorGRU.add(GRU(units=50, return_sequences=True, input_shape=(X_train.shape[1],1), activation='tanh'))\n",
    "regressorGRU.add(Dropout(0.2))\n",
    "# Second GRU layer\n",
    "regressorGRU.add(GRU(units=50, return_sequences=True, input_shape=(X_train.shape[1],1), activation='tanh'))\n",
    "regressorGRU.add(Dropout(0.2))\n",
    "# Third GRU layer\n",
    "regressorGRU.add(GRU(units=50, return_sequences=True, input_shape=(X_train.shape[1],1), activation='tanh'))\n",
    "regressorGRU.add(Dropout(0.2))\n",
    "# Fourth GRU layer\n",
    "regressorGRU.add(GRU(units=50, activation='tanh'))\n",
    "regressorGRU.add(Dropout(0.2))\n",
    "# The output layer\n",
    "regressorGRU.add(Dense(units=1))\n",
    "# Compiling the RNN\n",
    "regressorGRU.compile(optimizer=SGD(lr=0.01, decay=1e-7, momentum=0.9, nesterov=False),loss='mean_squared_error')\n",
    "# Fitting to the training set\n",
    "regressorGRU.fit(X_train,y_train,epochs=50,batch_size=150)"
   ]
  },
  {
   "cell_type": "markdown",
   "metadata": {
    "_kg_hide-input": false,
    "_uuid": "98628386f141545aa77d70f48478ac82bd9c1608"
   },
   "source": [
    "The current version version uses a dense GRU network with 100 units as opposed to the GRU network with 50 units in previous version"
   ]
  },
  {
   "cell_type": "code",
   "execution_count": 15,
   "metadata": {
    "_uuid": "f20ca021ea3ce05f6c6a98db93775f1b2c9c022c",
    "collapsed": true,
    "jupyter": {
     "outputs_hidden": true
    }
   },
   "outputs": [],
   "source": [
    "# Preparing X_test and predicting the prices\n",
    "X_test = []\n",
    "for i in range(60,311):\n",
    "    X_test.append(inputs[i-60:i,0])\n",
    "X_test = np.array(X_test)\n",
    "X_test = np.reshape(X_test, (X_test.shape[0],X_test.shape[1],1))\n",
    "GRU_predicted_stock_price = regressorGRU.predict(X_test)\n",
    "GRU_predicted_stock_price = sc.inverse_transform(GRU_predicted_stock_price)"
   ]
  },
  {
   "cell_type": "code",
   "execution_count": 16,
   "metadata": {
    "_uuid": "da8e9fa28510aa03e7dd06d5070d7b16e05ebb6e",
    "collapsed": true,
    "jupyter": {
     "outputs_hidden": true
    }
   },
   "outputs": [
    {
     "data": {
      "image/png": "[encoded data removed]",
      "text/plain": [
       "<Figure size 432x288 with 1 Axes>"
      ]
     },
     "metadata": {
      "needs_background": "light"
     },
     "output_type": "display_data"
    }
   ],
   "source": [
    "# Visualizing the results for GRU\n",
    "plot_predictions(test_set,GRU_predicted_stock_price)"
   ]
  },
  {
   "cell_type": "code",
   "execution_count": 17,
   "metadata": {
    "_uuid": "23aec5ab1a717e3458c8d5cae68db0e7add091ae",
    "collapsed": true,
    "jupyter": {
     "outputs_hidden": true
    }
   },
   "outputs": [
    {
     "name": "stdout",
     "output_type": "stream",
     "text": [
      "The root mean squared error is 3.2198762184271352.\n"
     ]
    }
   ],
   "source": [
    "# Evaluating GRU\n",
    "return_rmse(test_set,GRU_predicted_stock_price)"
   ]
  },
  {
   "cell_type": "markdown",
   "metadata": {
    "_uuid": "3aa099ecc057f972525df4c7ef4209744d27106a"
   },
   "source": [
    "## Sequence Generation\n",
    "Here, I will generate a sequence using just initial 60 values instead of using last 60 values for every new prediction. **Due to doubts in various comments about predictions making use of test set values, I have decided to include sequence generation.** The above models make use of test set so it is using last 60 true values for predicting the new value(I will call it a benchmark). This is why the error is so low. Strong models can bring similar results like above models for sequences too but they require more than just data which has previous values. In case of stocks, we need to know the sentiments of the market, the movement of other stocks and a lot more. So, don't expect a remotely accurate plot. The error will be great and the best I can do is generate the trend similar to the test set.\n",
    "\n",
    "I will use GRU model for predictions. You can try this using LSTMs also. I have modified GRU model above to get the best sequence possible. I have run the model four times and two times I got error of around 8 to 9. The worst case had an error of around 11. Let's see what this iterations.\n",
    "\n",
    "The GRU model in the previous versions is fine too. Just a little tweaking was required to get good sequences. **The main goal of this kernel is to show how to build RNN models. How you predict data and what kind of data you predict is up to you. I can't give you some 100 lines of code where you put the destination of training and test set and get world-class results. That's something you have to do yourself.**"
   ]
  },
  {
   "cell_type": "code",
   "execution_count": 18,
   "metadata": {
    "_uuid": "2949de3c668a788117221000567aaa7033cd1a17"
   },
   "outputs": [],
   "source": [
    "# Preparing sequence data\n",
    "initial_sequence = X_train[2708,:]\n",
    "sequence = []\n",
    "for i in range(251):\n",
    "    new_prediction = regressorGRU.predict(initial_sequence.reshape(initial_sequence.shape[1],initial_sequence.shape[0],1))\n",
    "    initial_sequence = initial_sequence[1:]\n",
    "    initial_sequence = np.append(initial_sequence,new_prediction,axis=0)\n",
    "    sequence.append(new_prediction)\n",
    "sequence = sc.inverse_transform(np.array(sequence).reshape(251,1))"
   ]
  },
  {
   "cell_type": "code",
   "execution_count": 19,
   "metadata": {
    "_uuid": "be390cade0cf4b31cb99e069570e1be2c5594c8b"
   },
   "outputs": [
    {
     "data": {
      "image/png": "[encoded data removed]",
      "text/plain": [
       "<Figure size 432x288 with 1 Axes>"
      ]
     },
     "metadata": {
      "needs_background": "light"
     },
     "output_type": "display_data"
    }
   ],
   "source": [
    "# Visualizing the sequence\n",
    "plot_predictions(test_set,sequence)"
   ]
  },
  {
   "cell_type": "code",
   "execution_count": 20,
   "metadata": {
    "_uuid": "59095a00a05a68b97d76fc13bb2d618c337e1c80"
   },
   "outputs": [
    {
     "name": "stdout",
     "output_type": "stream",
     "text": [
      "The root mean squared error is 9.13014650915944.\n"
     ]
    }
   ],
   "source": [
    "# Evaluating the sequence\n",
    "return_rmse(test_set,sequence)"
   ]
  },
  {
   "cell_type": "markdown",
   "metadata": {
    "_uuid": "c1003e9a17b23c1e3c7b7298250f8b071a93ae91"
   },
   "source": [
    "So, GRU works better than LSTM in this case. Bidirectional LSTM is also a good way so make the model stronger. But this may vary for different data sets. **Applying both LSTM and GRU together gave even better results.** "
   ]
  },
  {
   "cell_type": "markdown",
   "metadata": {
    "_uuid": "50534b0ff4065793ebce8997bd6da6ddc0af070f"
   },
   "source": [
    "#### I was going to cover text generation using LSTM but already an excellent kernel by [Shivam Bansal](https://www.kaggle.com/shivamb) on the mentioned topic exists. Link for that kernel here: https://www.kaggle.com/shivamb/beginners-guide-to-text-generation-using-lstms"
   ]
  },
  {
   "cell_type": "markdown",
   "metadata": {
    "_uuid": "9164ee2b253583928226c76f6a5f5148717227d7"
   },
   "source": [
    "#### This is certainly not the end. Stay tuned for more stuff!"
   ]
  }
 ],
 "metadata": {
  "kaggle": {
   "accelerator": "gpu",
   "dataSources": [
    {
     "datasetId": 8388,
     "sourceId": 11883,
     "sourceType": "datasetVersion"
    }
   ],
   "dockerImageVersionId": 12783,
   "isGpuEnabled": true,
   "isInternetEnabled": false,
   "language": "python",
   "sourceType": "notebook"
  },
  "kernelspec": {
   "display_name": "Python 3 (ipykernel)",
   "language": "python",
   "name": "python3"
  },
  "language_info": {
   "codemirror_mode": {
    "name": "ipython",
    "version": 3
   },
   "file_extension": ".py",
   "mimetype": "text/x-python",
   "name": "python",
   "nbconvert_exporter": "python",
   "pygments_lexer": "ipython3",
   "version": "3.11.7"
  }
 },
 "nbformat": 4,
 "nbformat_minor": 4
}
