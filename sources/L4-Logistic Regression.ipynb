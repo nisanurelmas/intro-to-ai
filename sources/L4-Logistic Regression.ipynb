{
 "cells": [
  {
   "cell_type": "markdown",
   "metadata": {},
   "source": [
    "# Logistic Regression"
   ]
  },
  {
   "cell_type": "code",
   "execution_count": 1,
   "metadata": {},
   "outputs": [],
   "source": [
    "import numpy as np\n",
    "import matplotlib.pyplot as plt\n",
    "%matplotlib inline\n",
    "from scipy import optimize"
   ]
  },
  {
   "cell_type": "markdown",
   "metadata": {},
   "source": [
    "## 1 Logistic Regression"
   ]
  },
  {
   "cell_type": "code",
   "execution_count": 2,
   "metadata": {},
   "outputs": [],
   "source": [
    "data = np.loadtxt(\"ex2data1.txt\", delimiter=',')\n",
    "X = data[:, [0, 1]]\n",
    "y = data[:, 2]"
   ]
  },
  {
   "cell_type": "code",
   "execution_count": 3,
   "metadata": {},
   "outputs": [
    {
     "data": {
      "text/plain": [
       "array([[34.62365962, 78.02469282],\n",
       "       [30.28671077, 43.89499752],\n",
       "       [35.84740877, 72.90219803],\n",
       "       [60.18259939, 86.3085521 ],\n",
       "       [79.03273605, 75.34437644]])"
      ]
     },
     "execution_count": 3,
     "metadata": {},
     "output_type": "execute_result"
    }
   ],
   "source": [
    "X[:5]"
   ]
  },
  {
   "cell_type": "code",
   "execution_count": 4,
   "metadata": {},
   "outputs": [
    {
     "data": {
      "text/plain": [
       "array([0., 0., 0., 1., 1.])"
      ]
     },
     "execution_count": 4,
     "metadata": {},
     "output_type": "execute_result"
    }
   ],
   "source": [
    "y[:5]"
   ]
  },
  {
   "cell_type": "markdown",
   "metadata": {},
   "source": [
    "### 1.1 Visualizing the data"
   ]
  },
  {
   "cell_type": "code",
   "execution_count": 5,
   "metadata": {},
   "outputs": [
    {
     "data": {
      "image/png": "[encoded data removed]",
      "text/plain": [
       "<Figure size 432x288 with 1 Axes>"
      ]
     },
     "metadata": {
      "needs_background": "light"
     },
     "output_type": "display_data"
    }
   ],
   "source": [
    "plt.figure()\n",
    "plt.scatter(X[y == 1][:, 0], X[y == 1][:, 1], label=\"Admitted\")\n",
    "plt.scatter(X[y == 0][:, 0], X[y == 0][:, 1], label=\"Not admitted\")\n",
    "plt.xlabel(\"Exam 1 score\")\n",
    "plt.ylabel(\"Exam 2 score\")\n",
    "plt.legend()\n",
    "plt.show()"
   ]
  },
  {
   "cell_type": "markdown",
   "metadata": {},
   "source": [
    "### 1.2 Implementation"
   ]
  },
  {
   "cell_type": "markdown",
   "metadata": {},
   "source": [
    "### 1.2.1 Warmup exercise: sigmoid function"
   ]
  },
  {
   "cell_type": "markdown",
   "metadata": {},
   "source": [
    "$$h_{\\theta}(x) = g(\\theta^T x)$$"
   ]
  },
  {
   "cell_type": "markdown",
   "metadata": {},
   "source": [
    "$$g(z) = \\frac{1}{1 + e^{-z}}$$"
   ]
  },
  {
   "cell_type": "code",
   "execution_count": 6,
   "metadata": {},
   "outputs": [],
   "source": [
    "def sigmoid(z):\n",
    "    return 1 / (1 + np.exp(-z))"
   ]
  },
  {
   "cell_type": "code",
   "execution_count": 7,
   "metadata": {},
   "outputs": [
    {
     "data": {
      "image/png": "[encoded data removed]",
      "text/plain": [
       "<Figure size 432x288 with 1 Axes>"
      ]
     },
     "metadata": {
      "needs_background": "light"
     },
     "output_type": "display_data"
    }
   ],
   "source": [
    "plt.plot()\n",
    "X_plot = np.linspace(-10, 10, 100)\n",
    "plt.plot(X_plot, sigmoid(X_plot))\n",
    "plt.show()"
   ]
  },
  {
   "cell_type": "markdown",
   "metadata": {},
   "source": [
    "### 1.2.2 Cost function and gradient"
   ]
  },
  {
   "cell_type": "markdown",
   "metadata": {},
   "source": [
    "$$J(\\theta) = \\frac{1}{m}[\\sum_{i=1}^m\n",
    "    {-y^{(i)} \\log{h_{\\theta}}(x^{(i)}) - (1 - y^{(i)}) \\log{(1 - h_{\\theta}}(x^{(i)}))}]$$"
   ]
  },
  {
   "cell_type": "markdown",
   "metadata": {},
   "source": [
    "$$\\frac{\\partial J(\\theta)}{\\partial \\theta_j} =\n",
    "    \\frac{1}{m} \\sum_{i=1}^m{(h_\\theta(x^{(i)}) - y^{(i)}) x^{(i)}_j}$$"
   ]
  },
  {
   "cell_type": "code",
   "execution_count": 8,
   "metadata": {},
   "outputs": [],
   "source": [
    "def costFunction(theta, X, y):\n",
    "    h = sigmoid(np.dot(X, theta))\n",
    "    J = -(np.dot(y, np.log(h)) + np.dot(1 - y, np.log(1 - h))) / X.shape[0]\n",
    "    grad = np.dot(X.T, h - y) / X.shape[0]\n",
    "    return J, grad"
   ]
  },
  {
   "cell_type": "code",
   "execution_count": 9,
   "metadata": {},
   "outputs": [
    {
     "name": "stdout",
     "output_type": "stream",
     "text": [
      "0.6931471805599452\n",
      "[ -0.1        -12.00921659 -11.26284221]\n"
     ]
    }
   ],
   "source": [
    "X_train = np.hstack((np.ones((X.shape[0], 1)), X))\n",
    "theta = np.array([0, 0, 0])\n",
    "J, grad = costFunction(theta, X_train, y)\n",
    "print(J)  # 0.693\n",
    "print(grad)  # -0.1000 -12.0092 -11.2628"
   ]
  },
  {
   "cell_type": "code",
   "execution_count": 10,
   "metadata": {},
   "outputs": [
    {
     "data": {
      "text/plain": [
       "(array([[34.62365962, 78.02469282],\n",
       "        [30.28671077, 43.89499752],\n",
       "        [35.84740877, 72.90219803],\n",
       "        [60.18259939, 86.3085521 ],\n",
       "        [79.03273605, 75.34437644],\n",
       "        [45.08327748, 56.31637178],\n",
       "        [61.10666454, 96.51142588],\n",
       "        [75.02474557, 46.55401354],\n",
       "        [76.0987867 , 87.42056972],\n",
       "        [84.43281996, 43.53339331],\n",
       "        [95.86155507, 38.22527806],\n",
       "        [75.01365839, 30.60326323],\n",
       "        [82.30705337, 76.4819633 ],\n",
       "        [69.36458876, 97.71869196],\n",
       "        [39.53833914, 76.03681085],\n",
       "        [53.97105215, 89.20735014],\n",
       "        [69.07014406, 52.74046973],\n",
       "        [67.94685548, 46.67857411],\n",
       "        [70.66150955, 92.92713789],\n",
       "        [76.97878373, 47.57596365],\n",
       "        [67.37202755, 42.83843832],\n",
       "        [89.67677575, 65.79936593],\n",
       "        [50.53478829, 48.85581153],\n",
       "        [34.21206098, 44.2095286 ],\n",
       "        [77.92409145, 68.97235999],\n",
       "        [62.27101367, 69.95445795],\n",
       "        [80.19018075, 44.82162893],\n",
       "        [93.1143888 , 38.80067034],\n",
       "        [61.83020602, 50.25610789],\n",
       "        [38.7858038 , 64.99568096],\n",
       "        [61.37928945, 72.80788731],\n",
       "        [85.40451939, 57.05198398],\n",
       "        [52.10797973, 63.12762377],\n",
       "        [52.04540477, 69.43286012],\n",
       "        [40.23689374, 71.16774802],\n",
       "        [54.63510555, 52.21388588],\n",
       "        [33.91550011, 98.86943574],\n",
       "        [64.17698887, 80.90806059],\n",
       "        [74.78925296, 41.57341523],\n",
       "        [34.18364003, 75.23772034],\n",
       "        [83.90239366, 56.30804622],\n",
       "        [51.54772027, 46.85629026],\n",
       "        [94.44336777, 65.56892161],\n",
       "        [82.36875376, 40.61825516],\n",
       "        [51.04775177, 45.82270146],\n",
       "        [62.22267576, 52.06099195],\n",
       "        [77.19303493, 70.4582    ],\n",
       "        [97.77159928, 86.72782233],\n",
       "        [62.0730638 , 96.76882412],\n",
       "        [91.5649745 , 88.69629255],\n",
       "        [79.94481794, 74.16311935],\n",
       "        [99.27252693, 60.999031  ],\n",
       "        [90.54671411, 43.39060181],\n",
       "        [34.52451385, 60.39634246],\n",
       "        [50.28649612, 49.80453881],\n",
       "        [49.58667722, 59.80895099],\n",
       "        [97.64563396, 68.86157272],\n",
       "        [32.57720017, 95.59854761],\n",
       "        [74.24869137, 69.82457123],\n",
       "        [71.79646206, 78.45356225],\n",
       "        [75.39561147, 85.75993667],\n",
       "        [35.28611282, 47.02051395],\n",
       "        [56.2538175 , 39.26147251],\n",
       "        [30.05882245, 49.59297387],\n",
       "        [44.66826172, 66.45008615],\n",
       "        [66.56089447, 41.09209808],\n",
       "        [40.45755098, 97.53518549],\n",
       "        [49.07256322, 51.88321182],\n",
       "        [80.27957401, 92.11606081],\n",
       "        [66.74671857, 60.99139403],\n",
       "        [32.72283304, 43.30717306],\n",
       "        [64.03932042, 78.03168802],\n",
       "        [72.34649423, 96.22759297],\n",
       "        [60.45788574, 73.0949981 ],\n",
       "        [58.84095622, 75.85844831],\n",
       "        [99.8278578 , 72.36925193],\n",
       "        [47.26426911, 88.475865  ],\n",
       "        [50.4581598 , 75.80985953],\n",
       "        [60.45555629, 42.50840944],\n",
       "        [82.22666158, 42.71987854],\n",
       "        [88.91389642, 69.8037889 ],\n",
       "        [94.83450672, 45.6943068 ],\n",
       "        [67.31925747, 66.58935318],\n",
       "        [57.23870632, 59.51428198],\n",
       "        [80.366756  , 90.9601479 ],\n",
       "        [68.46852179, 85.5943071 ],\n",
       "        [42.07545454, 78.844786  ],\n",
       "        [75.47770201, 90.424539  ],\n",
       "        [78.63542435, 96.64742717],\n",
       "        [52.34800399, 60.76950526],\n",
       "        [94.09433113, 77.15910509],\n",
       "        [90.44855097, 87.50879176],\n",
       "        [55.48216114, 35.57070347],\n",
       "        [74.49269242, 84.84513685],\n",
       "        [89.84580671, 45.35828361],\n",
       "        [83.48916274, 48.3802858 ],\n",
       "        [42.26170081, 87.10385094],\n",
       "        [99.31500881, 68.77540947],\n",
       "        [55.34001756, 64.93193801],\n",
       "        [74.775893  , 89.5298129 ]]),\n",
       " array([[ 1.        , 34.62365962, 78.02469282],\n",
       "        [ 1.        , 30.28671077, 43.89499752],\n",
       "        [ 1.        , 35.84740877, 72.90219803],\n",
       "        [ 1.        , 60.18259939, 86.3085521 ],\n",
       "        [ 1.        , 79.03273605, 75.34437644],\n",
       "        [ 1.        , 45.08327748, 56.31637178],\n",
       "        [ 1.        , 61.10666454, 96.51142588],\n",
       "        [ 1.        , 75.02474557, 46.55401354],\n",
       "        [ 1.        , 76.0987867 , 87.42056972],\n",
       "        [ 1.        , 84.43281996, 43.53339331],\n",
       "        [ 1.        , 95.86155507, 38.22527806],\n",
       "        [ 1.        , 75.01365839, 30.60326323],\n",
       "        [ 1.        , 82.30705337, 76.4819633 ],\n",
       "        [ 1.        , 69.36458876, 97.71869196],\n",
       "        [ 1.        , 39.53833914, 76.03681085],\n",
       "        [ 1.        , 53.97105215, 89.20735014],\n",
       "        [ 1.        , 69.07014406, 52.74046973],\n",
       "        [ 1.        , 67.94685548, 46.67857411],\n",
       "        [ 1.        , 70.66150955, 92.92713789],\n",
       "        [ 1.        , 76.97878373, 47.57596365],\n",
       "        [ 1.        , 67.37202755, 42.83843832],\n",
       "        [ 1.        , 89.67677575, 65.79936593],\n",
       "        [ 1.        , 50.53478829, 48.85581153],\n",
       "        [ 1.        , 34.21206098, 44.2095286 ],\n",
       "        [ 1.        , 77.92409145, 68.97235999],\n",
       "        [ 1.        , 62.27101367, 69.95445795],\n",
       "        [ 1.        , 80.19018075, 44.82162893],\n",
       "        [ 1.        , 93.1143888 , 38.80067034],\n",
       "        [ 1.        , 61.83020602, 50.25610789],\n",
       "        [ 1.        , 38.7858038 , 64.99568096],\n",
       "        [ 1.        , 61.37928945, 72.80788731],\n",
       "        [ 1.        , 85.40451939, 57.05198398],\n",
       "        [ 1.        , 52.10797973, 63.12762377],\n",
       "        [ 1.        , 52.04540477, 69.43286012],\n",
       "        [ 1.        , 40.23689374, 71.16774802],\n",
       "        [ 1.        , 54.63510555, 52.21388588],\n",
       "        [ 1.        , 33.91550011, 98.86943574],\n",
       "        [ 1.        , 64.17698887, 80.90806059],\n",
       "        [ 1.        , 74.78925296, 41.57341523],\n",
       "        [ 1.        , 34.18364003, 75.23772034],\n",
       "        [ 1.        , 83.90239366, 56.30804622],\n",
       "        [ 1.        , 51.54772027, 46.85629026],\n",
       "        [ 1.        , 94.44336777, 65.56892161],\n",
       "        [ 1.        , 82.36875376, 40.61825516],\n",
       "        [ 1.        , 51.04775177, 45.82270146],\n",
       "        [ 1.        , 62.22267576, 52.06099195],\n",
       "        [ 1.        , 77.19303493, 70.4582    ],\n",
       "        [ 1.        , 97.77159928, 86.72782233],\n",
       "        [ 1.        , 62.0730638 , 96.76882412],\n",
       "        [ 1.        , 91.5649745 , 88.69629255],\n",
       "        [ 1.        , 79.94481794, 74.16311935],\n",
       "        [ 1.        , 99.27252693, 60.999031  ],\n",
       "        [ 1.        , 90.54671411, 43.39060181],\n",
       "        [ 1.        , 34.52451385, 60.39634246],\n",
       "        [ 1.        , 50.28649612, 49.80453881],\n",
       "        [ 1.        , 49.58667722, 59.80895099],\n",
       "        [ 1.        , 97.64563396, 68.86157272],\n",
       "        [ 1.        , 32.57720017, 95.59854761],\n",
       "        [ 1.        , 74.24869137, 69.82457123],\n",
       "        [ 1.        , 71.79646206, 78.45356225],\n",
       "        [ 1.        , 75.39561147, 85.75993667],\n",
       "        [ 1.        , 35.28611282, 47.02051395],\n",
       "        [ 1.        , 56.2538175 , 39.26147251],\n",
       "        [ 1.        , 30.05882245, 49.59297387],\n",
       "        [ 1.        , 44.66826172, 66.45008615],\n",
       "        [ 1.        , 66.56089447, 41.09209808],\n",
       "        [ 1.        , 40.45755098, 97.53518549],\n",
       "        [ 1.        , 49.07256322, 51.88321182],\n",
       "        [ 1.        , 80.27957401, 92.11606081],\n",
       "        [ 1.        , 66.74671857, 60.99139403],\n",
       "        [ 1.        , 32.72283304, 43.30717306],\n",
       "        [ 1.        , 64.03932042, 78.03168802],\n",
       "        [ 1.        , 72.34649423, 96.22759297],\n",
       "        [ 1.        , 60.45788574, 73.0949981 ],\n",
       "        [ 1.        , 58.84095622, 75.85844831],\n",
       "        [ 1.        , 99.8278578 , 72.36925193],\n",
       "        [ 1.        , 47.26426911, 88.475865  ],\n",
       "        [ 1.        , 50.4581598 , 75.80985953],\n",
       "        [ 1.        , 60.45555629, 42.50840944],\n",
       "        [ 1.        , 82.22666158, 42.71987854],\n",
       "        [ 1.        , 88.91389642, 69.8037889 ],\n",
       "        [ 1.        , 94.83450672, 45.6943068 ],\n",
       "        [ 1.        , 67.31925747, 66.58935318],\n",
       "        [ 1.        , 57.23870632, 59.51428198],\n",
       "        [ 1.        , 80.366756  , 90.9601479 ],\n",
       "        [ 1.        , 68.46852179, 85.5943071 ],\n",
       "        [ 1.        , 42.07545454, 78.844786  ],\n",
       "        [ 1.        , 75.47770201, 90.424539  ],\n",
       "        [ 1.        , 78.63542435, 96.64742717],\n",
       "        [ 1.        , 52.34800399, 60.76950526],\n",
       "        [ 1.        , 94.09433113, 77.15910509],\n",
       "        [ 1.        , 90.44855097, 87.50879176],\n",
       "        [ 1.        , 55.48216114, 35.57070347],\n",
       "        [ 1.        , 74.49269242, 84.84513685],\n",
       "        [ 1.        , 89.84580671, 45.35828361],\n",
       "        [ 1.        , 83.48916274, 48.3802858 ],\n",
       "        [ 1.        , 42.26170081, 87.10385094],\n",
       "        [ 1.        , 99.31500881, 68.77540947],\n",
       "        [ 1.        , 55.34001756, 64.93193801],\n",
       "        [ 1.        , 74.775893  , 89.5298129 ]]))"
      ]
     },
     "execution_count": 10,
     "metadata": {},
     "output_type": "execute_result"
    }
   ],
   "source": [
    "X, X_train"
   ]
  },
  {
   "cell_type": "code",
   "execution_count": 11,
   "metadata": {},
   "outputs": [
    {
     "name": "stdout",
     "output_type": "stream",
     "text": [
      "0.2183301938265977\n",
      "[0.04290299 2.56623412 2.64679737]\n"
     ]
    }
   ],
   "source": [
    "X_train = np.hstack((np.ones((X.shape[0], 1)), X))\n",
    "theta = np.array([-24, 0.2, 0.2])\n",
    "J, grad = costFunction(theta, X_train, y)\n",
    "print(J)  # 0.218\n",
    "print(grad)  # 0.043 2.566 2.647"
   ]
  },
  {
   "cell_type": "markdown",
   "metadata": {},
   "source": [
    "### 1.2.3 Learning parameters using fminunc"
   ]
  },
  {
   "cell_type": "code",
   "execution_count": 12,
   "metadata": {},
   "outputs": [
    {
     "name": "stdout",
     "output_type": "stream",
     "text": [
      "0.2034977100735217\n",
      "[-25.15378124   0.2061713    0.2014105 ]\n"
     ]
    }
   ],
   "source": [
    "def cost(theta, X, y):\n",
    "    h = sigmoid(np.dot(X, theta))\n",
    "    J = - (np.dot(y, np.log(h)) + np.dot(1 - y, np.log(1 - h))) / X.shape[0]\n",
    "    return J\n",
    "\n",
    "\n",
    "def gradient(theta, X, y):\n",
    "    h = sigmoid(np.dot(X, theta))\n",
    "    grad = np.dot(X.T, h - y) / X.shape[0]\n",
    "    return grad\n",
    "\n",
    "\n",
    "X_train = np.hstack((np.ones((X.shape[0], 1)), X))\n",
    "theta = np.array([0, 0, 0])\n",
    "res = optimize.minimize(fun=cost, x0=theta, args=(X_train, y),\n",
    "                        method='Newton-CG', jac=gradient)\n",
    "print(res.fun)  # 0.203\n",
    "print(res.x)  # -25.161 0.206 0.201"
   ]
  },
  {
   "cell_type": "code",
   "execution_count": 13,
   "metadata": {},
   "outputs": [],
   "source": [
    "def plotDecisionBoundary(theta, X, y):\n",
    "    x_min, x_max = X[:, 0].min() - 1, X[:, 0].max() + 1\n",
    "    y_min, y_max = X[:, 1].min() - 1, X[:, 1].max() + 1\n",
    "    xx, yy = np.meshgrid(np.arange(x_min, x_max, 0.1),\n",
    "                         np.arange(y_min, y_max, 0.1))\n",
    "    X_plot = np.c_[xx.ravel(), yy.ravel()]\n",
    "    X_plot = np.hstack((np.ones((X_plot.shape[0], 1)), X_plot))\n",
    "    y_plot = np.dot(X_plot, theta).reshape(xx.shape)\n",
    "    \n",
    "    plt.figure()\n",
    "    plt.scatter(X[y == 1][:, 0], X[y == 1][:, 1], label=\"Admitted\")\n",
    "    plt.scatter(X[y == 0][:, 0], X[y == 0][:, 1], label=\"Not admitted\")\n",
    "    plt.contour(xx, yy, y_plot, levels=[0])\n",
    "    plt.xlabel(\"Exam 1 score\")\n",
    "    plt.ylabel(\"Exam 2 score\")\n",
    "    plt.legend()\n",
    "    plt.show()"
   ]
  },
  {
   "cell_type": "code",
   "execution_count": 14,
   "metadata": {},
   "outputs": [
    {
     "data": {
      "image/png": "[encoded data removed]",
      "text/plain": [
       "<Figure size 432x288 with 1 Axes>"
      ]
     },
     "metadata": {
      "needs_background": "light"
     },
     "output_type": "display_data"
    }
   ],
   "source": [
    "plotDecisionBoundary(res.x, X, y)"
   ]
  },
  {
   "cell_type": "markdown",
   "metadata": {},
   "source": [
    "### 1.2.4 Evaluating logistic regression"
   ]
  },
  {
   "cell_type": "code",
   "execution_count": 15,
   "metadata": {},
   "outputs": [
    {
     "name": "stdout",
     "output_type": "stream",
     "text": [
      "0.7762281208978543\n"
     ]
    }
   ],
   "source": [
    "prob = sigmoid(np.dot(np.array([1, 45, 85]), res.x))\n",
    "print(prob)  # 0.775 +/- 0.002"
   ]
  },
  {
   "cell_type": "code",
   "execution_count": 16,
   "metadata": {},
   "outputs": [],
   "source": [
    "def predict(theta, X):\n",
    "    X_train = np.hstack((np.ones((X.shape[0], 1)), X))\n",
    "    prob = sigmoid(np.dot(X_train, theta))\n",
    "    return (prob >= 0.5).astype(int)"
   ]
  },
  {
   "cell_type": "code",
   "execution_count": 17,
   "metadata": {},
   "outputs": [
    {
     "data": {
      "text/plain": [
       "0.89"
      ]
     },
     "execution_count": 17,
     "metadata": {},
     "output_type": "execute_result"
    }
   ],
   "source": [
    "np.mean(predict(res.x, X) == y)  # 0.89"
   ]
  },
  {
   "cell_type": "markdown",
   "metadata": {},
   "source": [
    "## 2 Regularized logistic regression"
   ]
  },
  {
   "cell_type": "code",
   "execution_count": 18,
   "metadata": {},
   "outputs": [],
   "source": [
    "data = np.loadtxt(\"ex2data2.txt\", delimiter=',')\n",
    "X = data[:, [0, 1]]\n",
    "y = data[:, 2]"
   ]
  },
  {
   "cell_type": "code",
   "execution_count": 19,
   "metadata": {},
   "outputs": [
    {
     "data": {
      "text/plain": [
       "array([[ 0.051267,  0.69956 ],\n",
       "       [-0.092742,  0.68494 ],\n",
       "       [-0.21371 ,  0.69225 ],\n",
       "       [-0.375   ,  0.50219 ],\n",
       "       [-0.51325 ,  0.46564 ]])"
      ]
     },
     "execution_count": 19,
     "metadata": {},
     "output_type": "execute_result"
    }
   ],
   "source": [
    "X[:5]"
   ]
  },
  {
   "cell_type": "code",
   "execution_count": 20,
   "metadata": {},
   "outputs": [
    {
     "data": {
      "text/plain": [
       "array([1., 1., 1., 1., 1.])"
      ]
     },
     "execution_count": 20,
     "metadata": {},
     "output_type": "execute_result"
    }
   ],
   "source": [
    "y[:5]"
   ]
  },
  {
   "cell_type": "markdown",
   "metadata": {},
   "source": [
    "### 2.1 Visualizing the data"
   ]
  },
  {
   "cell_type": "code",
   "execution_count": 21,
   "metadata": {},
   "outputs": [
    {
     "data": {
      "image/png": "[encoded data removed]",
      "text/plain": [
       "<Figure size 432x288 with 1 Axes>"
      ]
     },
     "metadata": {
      "needs_background": "light"
     },
     "output_type": "display_data"
    }
   ],
   "source": [
    "plt.figure()\n",
    "plt.scatter(X[y == 1][:, 0], X[y == 1][:, 1], label=\"y = 1\")\n",
    "plt.scatter(X[y == 0][:, 0], X[y == 0][:, 1], label=\"y = 0\")\n",
    "plt.xlabel(\"Microchip Test 1\")\n",
    "plt.ylabel(\"Microchip Test 2\")\n",
    "plt.legend()\n",
    "plt.show()"
   ]
  },
  {
   "cell_type": "markdown",
   "metadata": {},
   "source": [
    "### 2.2 Feature mapping"
   ]
  },
  {
   "cell_type": "code",
   "execution_count": 22,
   "metadata": {},
   "outputs": [],
   "source": [
    "def mapFeature(X1, X2):\n",
    "    degree = 6\n",
    "    out = np.ones((X1.shape[0], 1))\n",
    "    for i in range(1, degree + 1):\n",
    "        for j in range(i + 1):\n",
    "            out = np.hstack((out, (X1 ** (i - j) * X2 ** j)[:, np.newaxis]))\n",
    "    return out"
   ]
  },
  {
   "cell_type": "code",
   "execution_count": 23,
   "metadata": {},
   "outputs": [],
   "source": [
    "X_train = mapFeature(X[:, 0], X[:, 1])"
   ]
  },
  {
   "cell_type": "code",
   "execution_count": 24,
   "metadata": {},
   "outputs": [
    {
     "data": {
      "text/plain": [
       "array([[ 1.00000000e+00,  5.12670000e-02,  6.99560000e-01, ...,\n",
       "         6.29470940e-04,  8.58939846e-03,  1.17205992e-01],\n",
       "       [ 1.00000000e+00, -9.27420000e-02,  6.84940000e-01, ...,\n",
       "         1.89305413e-03, -1.39810280e-02,  1.03255971e-01],\n",
       "       [ 1.00000000e+00, -2.13710000e-01,  6.92250000e-01, ...,\n",
       "         1.04882142e-02, -3.39734512e-02,  1.10046893e-01],\n",
       "       ...,\n",
       "       [ 1.00000000e+00, -4.84450000e-01,  9.99270000e-01, ...,\n",
       "         2.34007252e-01, -4.82684337e-01,  9.95627986e-01],\n",
       "       [ 1.00000000e+00, -6.33640000e-03,  9.99270000e-01, ...,\n",
       "         4.00328554e-05, -6.31330588e-03,  9.95627986e-01],\n",
       "       [ 1.00000000e+00,  6.32650000e-01, -3.06120000e-02, ...,\n",
       "         3.51474517e-07, -1.70067777e-08,  8.22905998e-10]])"
      ]
     },
     "execution_count": 24,
     "metadata": {},
     "output_type": "execute_result"
    }
   ],
   "source": [
    "X_train"
   ]
  },
  {
   "cell_type": "markdown",
   "metadata": {},
   "source": [
    "### 2.3 Cost function and gradient"
   ]
  },
  {
   "cell_type": "markdown",
   "metadata": {},
   "source": [
    "$$J(\\theta) = \\frac{1}{m}[\\sum_{i=1}^m\n",
    "    {-y^{(i)} \\log{h_{\\theta}}(x^{(i)}) - (1 - y^{(i)}) \\log{(1 - h_{\\theta}}(x^{(i)}))}] +\n",
    "    \\frac{\\lambda}{2m}\\sum_{j=1}^n{\\theta_j^2}$$"
   ]
  },
  {
   "cell_type": "markdown",
   "metadata": {},
   "source": [
    "$$\\frac{\\partial J(\\theta)}{\\partial \\theta_j} =\n",
    "    \\frac{1}{m} \\sum_{i=1}^m{(h_\\theta(x^{(i)}) - y^{(i)}) x^{(i)}_j} \\quad (j = 0)$$"
   ]
  },
  {
   "cell_type": "markdown",
   "metadata": {},
   "source": [
    "$$\\frac{\\partial J(\\theta)}{\\partial \\theta_j} =\n",
    "    (\\frac{1}{m} \\sum_{i=1}^m{(h_\\theta(x^{(i)}) - y^{(i)}) x^{(i)}_j}) +\n",
    "    \\frac{\\lambda}{m}\\theta_j \\quad (j \\neq 0)$$"
   ]
  },
  {
   "cell_type": "code",
   "execution_count": 25,
   "metadata": {},
   "outputs": [],
   "source": [
    "def costFunctionReg(theta, X, y, lam):\n",
    "    h = sigmoid(np.dot(X, theta))\n",
    "    t = np.zeros(len(theta))\n",
    "    t[1:] = theta[1:]\n",
    "    J = (-(np.dot(y, np.log(h)) + np.dot(1 - y, np.log(1 - h))) / X.shape[0]\n",
    "         + lam * np.dot(t, t) / (2 * X.shape[0]))\n",
    "    grad = np.dot(X.T, h - y) / X.shape[0] + lam * t / X.shape[0]\n",
    "    return J, grad"
   ]
  },
  {
   "cell_type": "code",
   "execution_count": 26,
   "metadata": {},
   "outputs": [
    {
     "name": "stdout",
     "output_type": "stream",
     "text": [
      "0.6931471805599454\n",
      "[8.47457627e-03 1.87880932e-02 7.77711864e-05 5.03446395e-02\n",
      " 1.15013308e-02]\n"
     ]
    }
   ],
   "source": [
    "lam = 1\n",
    "theta = np.zeros(X_train.shape[1])\n",
    "J, grad = costFunctionReg(theta, X_train, y, lam)\n",
    "print(J)  # 0.693\n",
    "print(grad[:5])  # 0.0085 0.0188 0.0001 0.0503 0.0115"
   ]
  },
  {
   "cell_type": "code",
   "execution_count": 27,
   "metadata": {},
   "outputs": [
    {
     "name": "stdout",
     "output_type": "stream",
     "text": [
      "3.1645093316150095\n",
      "[0.34604507 0.16135192 0.19479576 0.22686278 0.09218568]\n"
     ]
    }
   ],
   "source": [
    "lam = 10\n",
    "theta = np.ones(X_train.shape[1])\n",
    "J, grad = costFunctionReg(theta, X_train, y, lam)\n",
    "print(J)  # 3.16\n",
    "print(grad[:5])  # 0.3460 0.1614 0.1948 0.2269 0.0922"
   ]
  },
  {
   "cell_type": "code",
   "execution_count": 28,
   "metadata": {},
   "outputs": [
    {
     "name": "stdout",
     "output_type": "stream",
     "text": [
      "0.5290027297127173\n",
      "[ 1.27273963  0.62527232  1.18108931 -2.01996122 -0.91742463]\n"
     ]
    }
   ],
   "source": [
    "def cost(theta, X, y, lam):\n",
    "    h = sigmoid(np.dot(X, theta))\n",
    "    t = np.zeros(len(theta))\n",
    "    t[1:] = theta[1:]\n",
    "    J = (-(np.dot(y, np.log(h)) + np.dot(1 - y, np.log(1 - h))) / X.shape[0]\n",
    "         + lam * np.dot(t, t) / (2 * X.shape[0]))\n",
    "    return J\n",
    "\n",
    "\n",
    "def gradient(theta, X, y, lam):\n",
    "    h = sigmoid(np.dot(X, theta))\n",
    "    t = np.zeros(len(theta))\n",
    "    t[1:] = theta[1:]\n",
    "    grad = np.dot(X.T, h - y) / X.shape[0] + lam * t / X.shape[0]\n",
    "    return grad\n",
    "\n",
    "\n",
    "lam = 1\n",
    "theta = np.zeros(X_train.shape[1])\n",
    "res = optimize.minimize(fun=cost, x0=theta, args=(X_train, y, lam),\n",
    "                        method='Newton-CG', jac=gradient)\n",
    "print(res.fun)\n",
    "print(res.x[:5])"
   ]
  },
  {
   "cell_type": "code",
   "execution_count": 29,
   "metadata": {},
   "outputs": [
    {
     "data": {
      "text/plain": [
       "array([ 1.27273963,  0.62527232,  1.18108931, -2.01996122, -0.91742463,\n",
       "       -1.43166481,  0.12400692, -0.36553432, -0.35724002, -0.17513022,\n",
       "       -1.45815579, -0.05098988, -0.61555651, -0.27470652, -1.19281795,\n",
       "       -0.24218797, -0.20600601, -0.04473124, -0.27778469, -0.29537853,\n",
       "       -0.45635746, -1.04320206,  0.0277714 , -0.29243173,  0.01556643,\n",
       "       -0.32738001, -0.14388721, -0.92465301])"
      ]
     },
     "execution_count": 29,
     "metadata": {},
     "output_type": "execute_result"
    }
   ],
   "source": [
    "res.x"
   ]
  },
  {
   "cell_type": "code",
   "execution_count": 30,
   "metadata": {},
   "outputs": [],
   "source": [
    "def plotDecisionBoundary(theta, X, y):\n",
    "    x_min, x_max = X[:, 0].min() - 1, X[:, 0].max() + 1\n",
    "    y_min, y_max = X[:, 1].min() - 1, X[:, 1].max() + 1\n",
    "    xx, yy = np.meshgrid(np.arange(x_min, x_max, 0.05),\n",
    "                         np.arange(y_min, y_max, 0.05))\n",
    "    X_plot = np.c_[xx.ravel(), yy.ravel()]\n",
    "    X_plot = mapFeature(X_plot[:, 0], X_plot[:, 1])\n",
    "    y_plot = np.dot(X_plot, theta).reshape(xx.shape)\n",
    "    \n",
    "    plt.figure()\n",
    "    plt.scatter(X[y == 1][:, 0], X[y == 1][:, 1], label=\"y = 1\")\n",
    "    plt.scatter(X[y == 0][:, 0], X[y == 0][:, 1], label=\"y = 0\")\n",
    "    plt.contour(xx, yy, y_plot, levels=[0])\n",
    "    plt.xlabel(\"Microchip Test 1\")\n",
    "    plt.ylabel(\"Microchip Test 2\")\n",
    "    plt.xlim(-1.5, 1.5)\n",
    "    plt.ylim(-1.5, 1.5)\n",
    "    plt.legend()\n",
    "    plt.show()"
   ]
  },
  {
   "cell_type": "code",
   "execution_count": 31,
   "metadata": {},
   "outputs": [
    {
     "data": {
      "image/png": "[encoded data removed]",
      "text/plain": [
       "<Figure size 432x288 with 1 Axes>"
      ]
     },
     "metadata": {
      "needs_background": "light"
     },
     "output_type": "display_data"
    }
   ],
   "source": [
    "plotDecisionBoundary(res.x, X, y)"
   ]
  },
  {
   "cell_type": "code",
   "execution_count": 32,
   "metadata": {},
   "outputs": [],
   "source": [
    "def predict(theta, X):\n",
    "    X_train = mapFeature(X[:, 0], X[:, 1])\n",
    "    prob = sigmoid(np.dot(X_train, theta))\n",
    "    return (prob >= 0.5).astype(int)"
   ]
  },
  {
   "cell_type": "code",
   "execution_count": 33,
   "metadata": {},
   "outputs": [
    {
     "data": {
      "text/plain": [
       "0.8305084745762712"
      ]
     },
     "execution_count": 33,
     "metadata": {},
     "output_type": "execute_result"
    }
   ],
   "source": [
    "np.mean(predict(res.x, X) == y)  # 0.831"
   ]
  },
  {
   "cell_type": "code",
   "execution_count": 34,
   "metadata": {},
   "outputs": [],
   "source": [
    "# different regularization parameters"
   ]
  },
  {
   "cell_type": "code",
   "execution_count": 35,
   "metadata": {},
   "outputs": [
    {
     "data": {
      "image/png": "[encoded data removed]",
      "text/plain": [
       "<Figure size 432x288 with 1 Axes>"
      ]
     },
     "metadata": {
      "needs_background": "light"
     },
     "output_type": "display_data"
    }
   ],
   "source": [
    "lam = 1\n",
    "theta = np.zeros(X_train.shape[1])\n",
    "res = optimize.minimize(fun=cost, x0=theta, args=(X_train, y, lam),\n",
    "                        method='Newton-CG', jac=gradient)\n",
    "plotDecisionBoundary(res.x, X, y)"
   ]
  },
  {
   "cell_type": "code",
   "execution_count": 36,
   "metadata": {},
   "outputs": [
    {
     "data": {
      "image/png": "[encoded data removed]",
      "text/plain": [
       "<Figure size 432x288 with 1 Axes>"
      ]
     },
     "metadata": {
      "needs_background": "light"
     },
     "output_type": "display_data"
    }
   ],
   "source": [
    "# overfitting\n",
    "lam = 0\n",
    "theta = np.zeros(X_train.shape[1])\n",
    "res = optimize.minimize(fun=cost, x0=theta, args=(X_train, y, lam),\n",
    "                        method='Newton-CG', jac=gradient)\n",
    "plotDecisionBoundary(res.x, X, y)"
   ]
  },
  {
   "cell_type": "code",
   "execution_count": 37,
   "metadata": {},
   "outputs": [
    {
     "data": {
      "image/png": "[encoded data removed]",
      "text/plain": [
       "<Figure size 432x288 with 1 Axes>"
      ]
     },
     "metadata": {
      "needs_background": "light"
     },
     "output_type": "display_data"
    }
   ],
   "source": [
    "# underfitting\n",
    "lam = 100\n",
    "theta = np.zeros(X_train.shape[1])\n",
    "res = optimize.minimize(fun=cost, x0=theta, args=(X_train, y, lam),\n",
    "                        method='Newton-CG', jac=gradient)\n",
    "plotDecisionBoundary(res.x, X, y)"
   ]
  }
 ],
 "metadata": {
  "kernelspec": {
   "display_name": "Python 3 (ipykernel)",
   "language": "python",
   "name": "python3"
  },
  "language_info": {
   "codemirror_mode": {
    "name": "ipython",
    "version": 3
   },
   "file_extension": ".py",
   "mimetype": "text/x-python",
   "name": "python",
   "nbconvert_exporter": "python",
   "pygments_lexer": "ipython3",
   "version": "3.11.7"
  }
 },
 "nbformat": 4,
 "nbformat_minor": 4
}
